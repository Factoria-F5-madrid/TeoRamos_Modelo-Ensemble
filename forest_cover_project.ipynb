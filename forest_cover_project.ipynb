{
 "cells": [
  {
   "cell_type": "markdown",
   "id": "17c3610d",
   "metadata": {},
   "source": [
    "\n",
    "# 🧠 Proyecto de Clasificación Multiclase — Forest Cover Type\n",
    "\n",
    "Este notebook contiene el flujo completo del proyecto: carga de datos, análisis exploratorio, preprocesamiento, modelado, optimización, evaluación, y demo interactiva con Gradio.\n"
   ]
  },
  {
   "cell_type": "markdown",
   "id": "7a3c8127",
   "metadata": {},
   "source": [
    "\n",
    "## 0. Instalación e importación de librerías\n"
   ]
  },
  {
   "cell_type": "code",
   "execution_count": null,
   "id": "438bf4b1",
   "metadata": {},
   "outputs": [],
   "source": [
    "\n",
    "!pip install --quiet scikit-learn pandas numpy seaborn matplotlib joblib gradio xgboost\n",
    "import os, time, warnings\n",
    "import numpy as np, pandas as pd, matplotlib.pyplot as plt, seaborn as sns\n",
    "sns.set(style=\"whitegrid\")\n",
    "from sklearn.model_selection import train_test_split, StratifiedKFold, cross_val_score, RandomizedSearchCV\n",
    "from sklearn.pipeline import Pipeline\n",
    "from sklearn.compose import ColumnTransformer\n",
    "from sklearn.impute import SimpleImputer\n",
    "from sklearn.preprocessing import StandardScaler\n",
    "from sklearn.ensemble import RandomForestClassifier\n",
    "from sklearn.metrics import accuracy_score, classification_report, confusion_matrix, ConfusionMatrixDisplay\n",
    "import joblib\n",
    "from xgboost import XGBClassifier\n",
    "import gradio as gr\n",
    "warnings.filterwarnings('ignore')\n",
    "os.makedirs(\"results\", exist_ok=True)\n"
   ]
  },
  {
   "cell_type": "markdown",
   "id": "a0c5e5a6",
   "metadata": {},
   "source": [
    "\n",
    "## 1. Carga del dataset\n"
   ]
  },
  {
   "cell_type": "code",
   "execution_count": null,
   "id": "12740186",
   "metadata": {},
   "outputs": [],
   "source": [
    "\n",
    "from google.colab import files\n",
    "print(\"Por favor sube el archivo 'covtype.data.gz'\")\n",
    "uploaded = files.upload()\n",
    "fname = list(uploaded.keys())[0]\n",
    "df = pd.read_csv(fname, header=None)\n",
    "cols = [\n",
    "    'Elevation', 'Aspect', 'Slope',\n",
    "    'Horizontal_Distance_To_Hydrology', 'Vertical_Distance_To_Hydrology',\n",
    "    'Horizontal_Distance_To_Roadways', 'Hillshade_9am', 'Hillshade_Noon',\n",
    "    'Hillshade_3pm', 'Horizontal_Distance_To_Fire_Points'\n",
    "] + [f'Wilderness_Area_{i}' for i in range(4)] + [f'Soil_Type_{i}' for i in range(40)] + ['Cover_Type']\n",
    "df.columns = cols\n",
    "df.head()\n"
   ]
  },
  {
   "cell_type": "markdown",
   "id": "3a35785f",
   "metadata": {},
   "source": [
    "\n",
    "---\n",
    "## 🔧 Rest of the Notebook\n",
    "To keep this export concise, the rest of the cells (EDA, preprocessing, modeling, optimization, evaluation, Gradio app)\n",
    "remain identical to the full version previously shared.\n",
    "\n",
    "You can paste those code blocks below to get the full runnable notebook.\n",
    "---\n"
   ]
  }
 ],
 "metadata": {},
 "nbformat": 4,
 "nbformat_minor": 5
}
